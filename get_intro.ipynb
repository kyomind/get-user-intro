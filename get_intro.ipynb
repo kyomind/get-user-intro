{
 "cells": [
  {
   "cell_type": "code",
   "execution_count": 37,
   "metadata": {},
   "outputs": [],
   "source": [
    "from bs4 import BeautifulSoup\n",
    "import re"
   ]
  },
  {
   "cell_type": "code",
   "execution_count": 4,
   "metadata": {},
   "outputs": [],
   "source": [
    "with open('messages.html','r', encoding='utf8') as messages:\n",
    "    soup = BeautifulSoup(messages, 'html.parser')"
   ]
  },
  {
   "cell_type": "code",
   "execution_count": 14,
   "metadata": {},
   "outputs": [],
   "source": [
    "messages = soup.find_all('div', 'text')"
   ]
  },
  {
   "cell_type": "code",
   "execution_count": 21,
   "metadata": {},
   "outputs": [
    {
     "data": {
      "text/plain": [
       "335"
      ]
     },
     "execution_count": 21,
     "metadata": {},
     "output_type": "execute_result"
    }
   ],
   "source": [
    "len(messages)"
   ]
  },
  {
   "cell_type": "code",
   "execution_count": 40,
   "metadata": {},
   "outputs": [
    {
     "data": {
      "text/plain": [
       "bs4.element.Tag"
      ]
     },
     "execution_count": 40,
     "metadata": {},
     "output_type": "execute_result"
    }
   ],
   "source": [
    "type(messages[1])"
   ]
  },
  {
   "cell_type": "code",
   "execution_count": 36,
   "metadata": {},
   "outputs": [
    {
     "data": {
      "text/plain": [
       "'\\n那種也通常會花掉1-2小時XD\\n       '"
      ]
     },
     "execution_count": 36,
     "metadata": {},
     "output_type": "execute_result"
    }
   ],
   "source": [
    "messages[155].text"
   ]
  },
  {
   "cell_type": "code",
   "execution_count": 45,
   "metadata": {},
   "outputs": [
    {
     "name": "stdout",
     "output_type": "stream",
     "text": [
      "'\\n感謝大家的支持，為了促進彼此的認識與交流，請各位夥伴抽空來自我介紹唷！ ✮ ✮ 「寫作力」社群成員自我介紹 ✮ ✮ ✮ 可以這樣稱呼我：✮ 我的興趣、專長：✮ 我的三個標籤是：✮ 我對寫作的想法：✮ 我想學習的領域：✮ 我想得到的協助：✮ 我想要跟Vista說：✮ 我的網站與社群：\\n       '\n",
      "'\\n✮ ✮ 「寫作力」社群成員自我介紹 ✮ ✮ ✮ 可以這樣稱呼我：Vista✮ 我的興趣、專長：寫作、旅遊、內容行銷✮ 我的三個標籤是：寫作、閱讀、棒球✮ 我對寫作的想法：寫作是最佳的溝通管道，也是最好的自我投資。✮ 我想學習的領域：精進商業寫作與文學創作。✮ 我想得到的協助：美術設計、影音錄製。✮ 我想要跟Vista說：加油！✮ 我的網站與社群：https://www.contenthacker.today/https://www.writing.vc/https://www.facebook.com/vista.tw\\n'\n",
      "'\\n✮ 可以這樣稱呼我：白熊✮ 我的興趣、專長：思考方法論、內容行銷✮ 我的三個標籤是：成長思維、預先思考、互相幫助✮ 我對寫作的想法：先練思考，再練寫作。✮ 我想學習的領域：增進策略寫作力。✮ 我想得到的協助：美術設計、影音錄製。✮ 我想要跟Vista說：一起成長✮ 我的網站與社群：共同經營《內容駭客》https://www.contenthacker.today\\n'\n",
      "'\\n✮ 可以這樣稱呼我：kyo✮ 我的興趣、專長：知識、學習、程式✮ 我想討論的議題：寫作增加能見度、甘苦談✮ 我想得到的協助：文案、行銷✮ 我想要跟Vista說：希望群組可以不斷壯大，寫作有生態系更好✮ 我的網站與社群：https://medium.com/code-and-me\\n'\n",
      "'\\n✮ ✮ 「寫作力」社群成員自我介紹 ✮ ✮ ✮ 可以這樣稱呼我：東寶✮ 我的興趣、專長：影視、影像製作✮ 我的三個標籤是：不知道要寫甚麼耶✮ 我對寫作的想法：整理思緒✮ 我想學習的領域：用字的選擇、說故事的方法✮ 我想得到的協助：盡量地擴展眼界，多方吸收✮ 我想要跟Vista說：感謝提供這些空間，讓我有機會接觸生活圈以外的人與知識，雖然對於寫作很弱，但有心要想學習邏輯思考以及說出來的能力✮ 我的網站與社群：暫無\\n       '\n",
      "'\\n✮ ✮ 「寫作力」社群成員自我介紹 ✮ ✮ ✮ 可以這樣稱呼我：Lefty✮ 我的興趣、專長：閱讀、指數化投資、iOS App開發✮ 我的三個標籤是：Podcast、Swift、iOS✮ 我對寫作的想法：寫作是檢驗自己知識掌握程度的最好方法，也是建立系統化資料的必要手段。✮ 我想學習的領域：內容行銷、SEO。✮ 我想得到的協助：社群經營、各種外包管道資源。✮ 我想要跟Vista說：感謝V大分享知識、建立討論園地。✮ 我的網站與社群：https://medium.com/@lefty./https://vocus.cc/user/@lefty/https://facebook.com/Lefolution/\\n'\n",
      "'\\n✮ ✮ 「寫作力」社群成員自我介紹 ✮ ✮ ✮ 可以這樣稱呼我：Erica, 幼如✮ 我的興趣、專長：行銷、分析✮ 我的三個標籤是：得到app、電信業，FMCG✮ 我對寫作的想法：累積學習力，提升溝通效率✮ 我想學習的領域：文案寫作✮ 我想得到的協助：我在進行行銷書心得寫作計畫，有什麼看不懂的行銷書，都可以跟我說喔✮ 我想要跟Vista說：謝謝老師不厭其煩分析✮ 我的網站與社群：https://m.facebook.com/pages/category/Advertising-Marketing/許幼如的職場學習路-170741133661317/?locale2=zh_TWhttps://www.yojuhsu.com\\n'\n",
      "'\\n✮ ✮ 「寫作力」社群成員自我介紹 ✮ ✮ ✮ 可以這樣稱呼我：Alex✮ 我的興趣、專長：美食、旅遊、產品經理PM✮ 我的三個標籤是：好吃、懶做、遲到✮ 我對寫作的想法：寫作是遙不可及，又深不可觸的美好。✮ 我想學習的領域：商業寫作錄音✮ 我想得到的協助：個人知識品牌的建立與擴散✮ 我想要跟Vista說：V大最棒最強✮ 我的網站與社群：https://www.facebook.com/alexchou0008\\n'\n",
      "'\\n不好意思沒注意到格式✮ 可以這樣稱呼我：Maro✮ 我的興趣、專長：異業合作、行銷企劃、文案撰寫及資訊技術✮ 我的三個標籤是：行銷策略、資訊技術、心理學✮ 我對寫作的想法：以心理學為出發，文字只是媒介。✮ 我想學習的領域：文案、心理學、創業、經營策略。✮ 我想得到的協助：文案策略。✮ 我想要跟Vista說：感謝老師的邀請✮ 我的網站與社群：共筆《內容駭客》https://www.contenthacker.today、粉絲團《楓町的日常生活》https://www.facebook.com/hukaka4fans/\\n'\n"
     ]
    }
   ],
   "source": [
    "for message in messages:\n",
    "    if re.search(r'可以這樣稱呼我', message.text):\n",
    "        print(repr(message.text))"
   ]
  },
  {
   "cell_type": "code",
   "execution_count": 39,
   "metadata": {},
   "outputs": [],
   "source": [
    "re.search(r'ee', 'hello')"
   ]
  },
  {
   "cell_type": "code",
   "execution_count": null,
   "metadata": {},
   "outputs": [],
   "source": []
  }
 ],
 "metadata": {
  "kernelspec": {
   "display_name": "Python 3",
   "language": "python",
   "name": "python3"
  },
  "language_info": {
   "codemirror_mode": {
    "name": "ipython",
    "version": 3
   },
   "file_extension": ".py",
   "mimetype": "text/x-python",
   "name": "python",
   "nbconvert_exporter": "python",
   "pygments_lexer": "ipython3",
   "version": "3.6.7"
  }
 },
 "nbformat": 4,
 "nbformat_minor": 2
}
