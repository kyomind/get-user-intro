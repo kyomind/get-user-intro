{
 "cells": [
  {
   "cell_type": "code",
   "execution_count": 1,
   "metadata": {},
   "outputs": [],
   "source": [
    "from bs4 import BeautifulSoup\n",
    "import re\n",
    "import csv"
   ]
  },
  {
   "cell_type": "code",
   "execution_count": 54,
   "metadata": {},
   "outputs": [],
   "source": [
    "with open('messages.html','r', encoding='utf8') as messages:\n",
    "    soup = BeautifulSoup(messages, 'html.parser')"
   ]
  },
  {
   "cell_type": "code",
   "execution_count": 55,
   "metadata": {},
   "outputs": [],
   "source": [
    "messages = soup.find_all('div', 'text')"
   ]
  },
  {
   "cell_type": "code",
   "execution_count": 56,
   "metadata": {},
   "outputs": [
    {
     "data": {
      "text/plain": [
       "452"
      ]
     },
     "execution_count": 56,
     "metadata": {},
     "output_type": "execute_result"
    }
   ],
   "source": [
    "len(messages)"
   ]
  },
  {
   "cell_type": "code",
   "execution_count": 57,
   "metadata": {},
   "outputs": [
    {
     "data": {
      "text/plain": [
       "bs4.element.Tag"
      ]
     },
     "execution_count": 57,
     "metadata": {},
     "output_type": "execute_result"
    }
   ],
   "source": [
    "type(messages[1])"
   ]
  },
  {
   "cell_type": "code",
   "execution_count": 58,
   "metadata": {},
   "outputs": [
    {
     "data": {
      "text/plain": [
       "'\\n那種也通常會花掉1-2小時XD\\n       '"
      ]
     },
     "execution_count": 58,
     "metadata": {},
     "output_type": "execute_result"
    }
   ],
   "source": [
    "messages[155].text"
   ]
  },
  {
   "cell_type": "code",
   "execution_count": 61,
   "metadata": {},
   "outputs": [],
   "source": [
    "def get_intro_details_from_message(message):\n",
    "    raw_detail_list = message.split('：')\n",
    "\n",
    "    detail_list = [i.split('✮')[0] for i in raw_detail_list][1:]\n",
    " \n",
    "    return detail_list"
   ]
  },
  {
   "cell_type": "code",
   "execution_count": 62,
   "metadata": {},
   "outputs": [],
   "source": [
    "insert_list = []\n",
    "for message in messages:\n",
    "    if re.search(r'可以這樣稱呼我', message.text):\n",
    "        detail_list = get_intro_details_from_message(message=message.text)\n",
    "        insert_list.append(detail_list)   "
   ]
  },
  {
   "cell_type": "code",
   "execution_count": 63,
   "metadata": {},
   "outputs": [
    {
     "data": {
      "text/plain": [
       "[['', '', '', '', '', '', '', '\\n       '],\n",
       " ['Vista',\n",
       "  '寫作、旅遊、內容行銷',\n",
       "  '寫作、閱讀、棒球',\n",
       "  '寫作是最佳的溝通管道，也是最好的自我投資。',\n",
       "  '精進商業寫作與文學創作。',\n",
       "  '美術設計、影音錄製。',\n",
       "  '加油！',\n",
       "  'https://www.contenthacker.today/https://www.writing.vc/https://www.facebook.com/vista.tw\\n'],\n",
       " ['白熊',\n",
       "  '思考方法論、內容行銷',\n",
       "  '成長思維、預先思考、互相幫助',\n",
       "  '先練思考，再練寫作。',\n",
       "  '增進策略寫作力。',\n",
       "  '美術設計、影音錄製。',\n",
       "  '一起成長',\n",
       "  '共同經營《內容駭客》https://www.contenthacker.today\\n'],\n",
       " ['kyo',\n",
       "  '知識、學習、程式',\n",
       "  '寫作增加能見度、甘苦談',\n",
       "  '文案、行銷',\n",
       "  '希望群組可以不斷壯大，寫作有生態系更好',\n",
       "  'https://medium.com/code-and-me\\n'],\n",
       " ['東寶',\n",
       "  '影視、影像製作',\n",
       "  '不知道要寫甚麼耶',\n",
       "  '整理思緒',\n",
       "  '用字的選擇、說故事的方法',\n",
       "  '盡量地擴展眼界，多方吸收',\n",
       "  '感謝提供這些空間，讓我有機會接觸生活圈以外的人與知識，雖然對於寫作很弱，但有心要想學習邏輯思考以及說出來的能力',\n",
       "  '暫無\\n       '],\n",
       " ['Lefty',\n",
       "  '閱讀、指數化投資、iOS App開發',\n",
       "  'Podcast、Swift、iOS',\n",
       "  '寫作是檢驗自己知識掌握程度的最好方法，也是建立系統化資料的必要手段。',\n",
       "  '內容行銷、SEO。',\n",
       "  '社群經營、各種外包管道資源。',\n",
       "  '感謝V大分享知識、建立討論園地。',\n",
       "  'https://medium.com/@lefty./https://vocus.cc/user/@lefty/https://facebook.com/Lefolution/\\n'],\n",
       " ['Erica, 幼如',\n",
       "  '行銷、分析',\n",
       "  '得到app、電信業，FMCG',\n",
       "  '累積學習力，提升溝通效率',\n",
       "  '文案寫作',\n",
       "  '我在進行行銷書心得寫作計畫，有什麼看不懂的行銷書，都可以跟我說喔',\n",
       "  '謝謝老師不厭其煩分析',\n",
       "  'https://m.facebook.com/pages/category/Advertising-Marketing/許幼如的職場學習路-170741133661317/?locale2=zh_TWhttps://www.yojuhsu.com\\n'],\n",
       " ['Alex',\n",
       "  '美食、旅遊、產品經理PM',\n",
       "  '好吃、懶做、遲到',\n",
       "  '寫作是遙不可及，又深不可觸的美好。',\n",
       "  '商業寫作錄音',\n",
       "  '個人知識品牌的建立與擴散',\n",
       "  'V大最棒最強',\n",
       "  'https://www.facebook.com/alexchou0008\\n'],\n",
       " ['Maro',\n",
       "  '異業合作、行銷企劃、文案撰寫及資訊技術',\n",
       "  '行銷策略、資訊技術、心理學',\n",
       "  '以心理學為出發，文字只是媒介。',\n",
       "  '文案、心理學、創業、經營策略。',\n",
       "  '文案策略。',\n",
       "  '感謝老師的邀請',\n",
       "  '共筆《內容駭客》https://www.contenthacker.today、粉絲團《楓町的日常生活》https://www.facebook.com/hukaka4fans/\\n'],\n",
       " ['Samuel',\n",
       "  '設計、攝影、閱讀',\n",
       "  '閱讀、拍照、美感教育',\n",
       "  '透過文字可以替自己不會說話的作品表達更多的內容或是溝通。',\n",
       "  '精進文案、文字的能力',\n",
       "  '',\n",
       "  '從隔壁棚來的～～',\n",
       "  '\\n       '],\n",
       " ['Iris',\n",
       "  '旅行、閱讀、資訊科技',\n",
       "  '旅行、放空、資訊科技',\n",
       "  '以文字鍛鍊邏輯',\n",
       "  '文案、邏輯思考',\n",
       "  '增進寫作力',\n",
       "  '寫作聽起來很遙遠，希望透過群組能開起寫作天線',\n",
       "  '暫無\\n       '],\n",
       " ['噹噹',\n",
       "  '企劃、電影、美食、旅遊、攝影、剪輯、逛街',\n",
       "  '影像、吃貨、節目企劃',\n",
       "  '以文字紀錄生活，分享所見所聞所想',\n",
       "  '文案撰寫、精準的文字力度',\n",
       "  '增進寫作力、不間斷的寫作動力',\n",
       "  '請教Vista如何持續不間斷寫作，目標與動機要如何設定，時常會因為沒時間就中斷寫作...謝謝！',\n",
       "  'http://coolliang33.blogspot.com\\n'],\n",
       " ['Ellie',\n",
       "  '唱歌、太極拳、聽podcast',\n",
       "  '閱讀、html,css',\n",
       "  '讀者能夠理解並對話的過程',\n",
       "  '用文字說話及好好表達',\n",
       "  '網路行銷、文案寫作',\n",
       "  '謝謝能夠有此空間可以跟很多來自四面八方的夥伴討論',\n",
       "  '暫無\\n       '],\n",
       " ['Eirlys',\n",
       "  '閱讀、寫作、聽音樂、逛街是興趣；耍廢是專長（無誤）',\n",
       "  '#微型出版 #自媒體 #一人CEO',\n",
       "  '我想、我寫，故我發聲而有所存在。',\n",
       "  '內容行銷、數據分析、練習用Wordpress 建網站',\n",
       "  '針對一個議題希望可以得到大家對此的想法、甚至是#推薦書單、#講座 或 #課程。',\n",
       "  '我是默默有在關注Vista網站的潛水粉絲ww',\n",
       "  '目前還在建造中......\\n       '],\n",
       " ['tzuhua',\n",
       "  '程式設計、閱讀、DIY(手作)',\n",
       "  '程式設計、閱讀、DIY',\n",
       "  '很難，學習中',\n",
       "  '商業寫作',\n",
       "  '美術設計、影音錄製',\n",
       "  '我是您的隱藏粉XD',\n",
       "  'http://blog.3dgowl.com/(剛開始練習)https://www.facebook.com/tzuhua.chen.31\\n']]"
      ]
     },
     "execution_count": 63,
     "metadata": {},
     "output_type": "execute_result"
    }
   ],
   "source": [
    "insert_list"
   ]
  },
  {
   "cell_type": "code",
   "execution_count": 64,
   "metadata": {},
   "outputs": [],
   "source": [
    "with open('intro.csv','wt',encoding='utf8',newline='') as intro:\n",
    "    csv_writer = csv.writer(intro)\n",
    "    csv_writer.writerows(insert_list)"
   ]
  },
  {
   "cell_type": "code",
   "execution_count": null,
   "metadata": {},
   "outputs": [],
   "source": []
  }
 ],
 "metadata": {
  "kernelspec": {
   "display_name": "Python 3",
   "language": "python",
   "name": "python3"
  },
  "language_info": {
   "codemirror_mode": {
    "name": "ipython",
    "version": 3
   },
   "file_extension": ".py",
   "mimetype": "text/x-python",
   "name": "python",
   "nbconvert_exporter": "python",
   "pygments_lexer": "ipython3",
   "version": "3.6.7"
  }
 },
 "nbformat": 4,
 "nbformat_minor": 2
}
